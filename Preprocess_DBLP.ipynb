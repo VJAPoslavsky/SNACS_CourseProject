{
 "cells": [
  {
   "cell_type": "code",
   "execution_count": 120,
   "metadata": {},
   "outputs": [],
   "source": [
    "import pandas as pd\n",
    "import numpy as np\n",
    "import itertools"
   ]
  },
  {
   "cell_type": "code",
   "execution_count": 121,
   "metadata": {},
   "outputs": [],
   "source": [
    "df = pd.read_csv('Datasets/article.csv')\n",
    "df = df[~df['author'].isnull()]\n",
    "df = df[(df['year'] >= 1990) & (df['year'] <= 2014)]\n",
    "df = df[df.author.str.contains('::')]\n",
    "df = df.sort_values(by=['year']).reset_index(drop=True)"
   ]
  },
  {
   "cell_type": "code",
   "execution_count": 122,
   "metadata": {},
   "outputs": [],
   "source": [
    "authors_array = []\n",
    "\n",
    "for row in df.itertuples():\n",
    "    authors = sorted(row.author.split('::'))\n",
    "    author_list = list(itertools.combinations(authors, 2))\n",
    "    for i in author_list:\n",
    "        comb = (i[0], i[1], row.year)\n",
    "        authors_array.append(comb)\n",
    "\n",
    "columns = ['source', 'target', 'timestamp']\n",
    "coauthors = pd.DataFrame(authors_array, columns=columns)\n",
    "clean_coauthors = coauthors.groupby([\"source\", \"target\"], as_index=False)[\"timestamp\"].first()\n",
    "clean_coauthors.to_csv('DBLP_Graph.csv', index=False)"
   ]
  }
 ],
 "metadata": {
  "kernelspec": {
   "display_name": "Python 3",
   "language": "python",
   "name": "python3"
  },
  "language_info": {
   "codemirror_mode": {
    "name": "ipython",
    "version": 3
   },
   "file_extension": ".py",
   "mimetype": "text/x-python",
   "name": "python",
   "nbconvert_exporter": "python",
   "pygments_lexer": "ipython3",
   "version": "3.6.8"
  }
 },
 "nbformat": 4,
 "nbformat_minor": 4
}
