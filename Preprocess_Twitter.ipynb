{
 "cells": [
  {
   "cell_type": "code",
   "execution_count": 9,
   "metadata": {},
   "outputs": [],
   "source": [
    "import pandas as pd\n",
    "import numpy as np\n",
    "import re\n",
    "import os"
   ]
  },
  {
   "cell_type": "code",
   "execution_count": 10,
   "metadata": {},
   "outputs": [],
   "source": [
    "sep = os.path.sep\n",
    "path = 'Datasets' + sep + 'Twitter' + sep\n",
    "filename = 'twitter-larger.tsv'"
   ]
  },
  {
   "cell_type": "code",
   "execution_count": 11,
   "metadata": {},
   "outputs": [],
   "source": [
    "def load_data():\n",
    "    columns = ['timestamp', 'user', 'tweet']\n",
    "    df = pd.read_table(path + filename, header=None)\n",
    "    df.columns = columns\n",
    "    return df"
   ]
  },
  {
   "cell_type": "code",
   "execution_count": 12,
   "metadata": {},
   "outputs": [],
   "source": [
    "def create_user_hashtag_df(df):\n",
    "    columns = ['user', 'hashtag', 'timestamp']\n",
    "    users_hashtag = []\n",
    "    \n",
    "    def extract_hash_tags(tweet):\n",
    "        return set([re.sub(r\"(\\W+)$\", \"\", j) for j in set([i for i in tweet.split() if i.startswith(\"#\")])])\n",
    "\n",
    "    for index, row in df.iterrows():\n",
    "        tweet = row['tweet']\n",
    "        hashtags = extract_hash_tags(tweet)\n",
    "        if(len(hashtags) > 0):\n",
    "            for hashtag in hashtags:\n",
    "                if(len(hashtag) == 0):\n",
    "                    continue\n",
    "                hashtag = hashtag[1:].lower()\n",
    "                comb = (row['user'], hashtag, row['timestamp'])\n",
    "                users_hashtag.append(comb)\n",
    "    \n",
    "    users_hashtag_df = pd.DataFrame(users_hashtag, columns=columns)\n",
    "    \n",
    "    return users_hashtag_df"
   ]
  },
  {
   "cell_type": "code",
   "execution_count": 13,
   "metadata": {},
   "outputs": [],
   "source": [
    "def create_raw_source_target_df(df):\n",
    "    lst = df['hashtag'].unique()\n",
    "    users_hashtag = []\n",
    "\n",
    "    for i in lst:\n",
    "        hashtag_df = df[df['hashtag'] == i].reset_index()\n",
    "        copy_hashtags = hashtag_df.copy()\n",
    "        copy_hashtags = copy_hashtags.iloc[1:,:]\n",
    "        for index_1, row_1 in hashtag_df.iterrows():\n",
    "            length = len(copy_hashtags)\n",
    "            for i in range(length):\n",
    "                if(len(copy_hashtags) == 0):\n",
    "                    continue\n",
    "                max_ts = max(row_1['timestamp'], copy_hashtags.iloc[0,3])\n",
    "                users = sorted((row_1['user'], copy_hashtags.iloc[0,1]))\n",
    "                comb = (users[0], users[1], row_1['hashtag'], max_ts)\n",
    "                users_hashtag.append(comb)\n",
    "                copy_hashtags = copy_hashtags.iloc[1:,:]\n",
    "    raw_source_target_df = pd.DataFrame(users_hashtag, columns=['source', 'target', 'hashtag', 'timestamp'])\n",
    "    \n",
    "    return raw_source_target_df"
   ]
  },
  {
   "cell_type": "code",
   "execution_count": 14,
   "metadata": {},
   "outputs": [],
   "source": [
    "def create_clean_graph(df):\n",
    "    df = df.sort_values(by='timestamp').reset_index().drop(columns=['index'])\n",
    "    df['newcol'] = df.apply(lambda x: str(x.source) + str(x.target), axis=1)\n",
    "    df = df[~df.newcol.duplicated()].iloc[:,:4]\n",
    "    df.columns = ['source', 'target', 'hashtag', 'timestamp']\n",
    "    df.to_csv(path + 'graph_with_hashtag_' + filename[:-4] + '.csv', index=False)\n",
    "    df = df.drop(columns=['hashtag'])\n",
    "    df.to_csv(path + 'graph_' + filename[:-4] + '.csv', index=False)\n",
    "    \n",
    "    return df"
   ]
  },
  {
   "cell_type": "code",
   "execution_count": 15,
   "metadata": {},
   "outputs": [],
   "source": [
    "def run():\n",
    "    df = load_data()\n",
    "    user_hashtag_df = create_user_hashtag_df(df)\n",
    "    raw_source_target_df = create_raw_source_target_df(user_hashtag_df)\n",
    "    clean_graph = create_clean_graph(raw_source_target_df)"
   ]
  },
  {
   "cell_type": "code",
   "execution_count": 16,
   "metadata": {},
   "outputs": [],
   "source": [
    "run()"
   ]
  }
 ],
 "metadata": {
  "kernelspec": {
   "display_name": "Python 3",
   "language": "python",
   "name": "python3"
  },
  "language_info": {
   "codemirror_mode": {
    "name": "ipython",
    "version": 3
   },
   "file_extension": ".py",
   "mimetype": "text/x-python",
   "name": "python",
   "nbconvert_exporter": "python",
   "pygments_lexer": "ipython3",
   "version": "3.6.8"
  }
 },
 "nbformat": 4,
 "nbformat_minor": 4
}
